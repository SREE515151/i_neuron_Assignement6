{
  "metadata": {
    "language_info": {
      "name": ""
    },
    "kernelspec": {
      "name": "python",
      "display_name": "Python (Pyodide)",
      "language": "python"
    }
  },
  "nbformat_minor": 4,
  "nbformat": 4,
  "cells": [
    {
      "cell_type": "markdown",
      "source": "1. What are keywords in python? Using the keyword library, print all the python keywords.",
      "metadata": {}
    },
    {
      "cell_type": "markdown",
      "source": "A) Keywords are reserved words in Python that have special meaning to the interpreter. They cannot be used as variable names or function names. \nTo print all the keywords in Python, you can use the `keyword` module. The `keyword` module provides a list of all the keywords in Python. You can access this list by using the `keyword.kwlist` attribute. For example, the following code prints all the keywords in Python:\n\nimport keyword\nprint(keyword.kwlist)\n",
      "metadata": {}
    },
    {
      "cell_type": "code",
      "source": "",
      "metadata": {},
      "execution_count": null,
      "outputs": []
    },
    {
      "cell_type": "markdown",
      "source": "2. What are the rules to create variables in python?",
      "metadata": {}
    },
    {
      "cell_type": "markdown",
      "source": "A) There are a few rules to create variables in Python. \n1.variable names must start with a letter or underscore.\n2.variable names cannot contain spaces. \n3.variable names cannot be the same as keywords. \n4.variable names are case-sensitive.",
      "metadata": {}
    },
    {
      "cell_type": "code",
      "source": "",
      "metadata": {},
      "execution_count": null,
      "outputs": []
    },
    {
      "cell_type": "markdown",
      "source": "3. What are the standards and conventions followed for the nomenclature of variables in python to improve code readability and maintainability?",
      "metadata": {}
    },
    {
      "cell_type": "markdown",
      "source": "A) There are a few conventions followed for the nomenclature of variables in Python to improve code readability and maintainability.\n1.Variable names should be descriptive so that they are easy to understand. \n2.Variable names should be lowercase, except for acronyms and words that would be confusing if lowercased. \n3.Use underscores to separate words in variable names, instead of spaces. \n4.Avoid using special characters in variable names, such as underscores, dashes, and periods.\n5.Reserved words are words that have special meaning to the Python interpreter. Avoid using reserved words as variable names, as this can cause errors.\nBy following these conventions, you can improve the readability and maintainability of your Python code.",
      "metadata": {}
    },
    {
      "cell_type": "code",
      "source": "",
      "metadata": {},
      "execution_count": null,
      "outputs": []
    },
    {
      "cell_type": "markdown",
      "source": "4. What will happen if a keyword is used as a variable name?",
      "metadata": {}
    },
    {
      "cell_type": "markdown",
      "source": "A) If a keyword is used as a variable name, the Python interpreter will raise an error. ",
      "metadata": {}
    },
    {
      "cell_type": "code",
      "source": "",
      "metadata": {},
      "execution_count": null,
      "outputs": []
    },
    {
      "cell_type": "markdown",
      "source": "5. For what purpose def keyword is used?",
      "metadata": {}
    },
    {
      "cell_type": "markdown",
      "source": "A)  The `def` keyword is used to define functions in Python\n\nTo define a function, you use the following syntax:\ndef function_name(parameters):\n    # code block",
      "metadata": {}
    },
    {
      "cell_type": "code",
      "source": "",
      "metadata": {},
      "execution_count": null,
      "outputs": []
    },
    {
      "cell_type": "markdown",
      "source": "6. What is the operation of this special character ‘\\’?",
      "metadata": {}
    },
    {
      "cell_type": "markdown",
      "source": "A) The character `\\` is used to escape special characters in Python. This means that it can be used to tell the Python interpreter that the next character is not to be interpreted as a special character.  \n\nThe `\\` character can also be used to escape other special characters, such as the newline character (`\\n`) and the tab character (`\\t`).",
      "metadata": {}
    },
    {
      "cell_type": "code",
      "source": "",
      "metadata": {},
      "execution_count": null,
      "outputs": []
    },
    {
      "cell_type": "code",
      "source": "7.Give an example of the following conditions:\n(1) Homogeneous list\n(2) Heterogeneous set\n(3) Homogeneous tuple",
      "metadata": {},
      "execution_count": null,
      "outputs": []
    },
    {
      "cell_type": "markdown",
      "source": "A) 1.Homogeneous list is a list that contains elements of the same type. For example, the following list is a homogeneous list of integers:\n[1, 2, 3, 4, 5]\n2.Heterogeneous set is a set that contains elements of different types. For example, the following set is a heterogeneous set of integers, strings, and floats: {1, '2', 3.0, '4'}\n3.Homogeneous tuple is a tuple that contains elements of the same type. For example, the following tuple is a homogeneous tuple of strings:\n('a', 'b', 'c', 'd', 'e')\n",
      "metadata": {}
    },
    {
      "cell_type": "code",
      "source": "",
      "metadata": {},
      "execution_count": null,
      "outputs": []
    },
    {
      "cell_type": "markdown",
      "source": "8. Explain the mutable and immutable data types with proper explanation & examples.",
      "metadata": {}
    },
    {
      "cell_type": "markdown",
      "source": "A) \nIn Python, there are two types of data types: mutable and immutable. \n\nMutable data types can be changed after they are created, while immutable data types cannot be changed.\n\nSome examples of mutable data types are lists, dictionaries, and sets. Example, the following code creates a list and then changes one of the elements:\n\nmy_list = [1, 2, 3]\nmy_list[0] = 4\nprint(my_list)\n\nThis code will print the following output:\n[4, 2, 3]\n\nSome examples of immutable data types are numbers, strings, and tuples. Example, the following code creates a tuple and then tries to change one of the elements:\nmy_tuple = (1, 2, 3)\nmy_tuple[0] = 4\n\nThis code will raise an error:\nTypeError: 'tuple' object does not support item assignment\n\nMutable data types are useful when you need to be able to change the data after it is created. Immutable data types are useful when you need to ensure that the data cannot be changed.\n\nIn general, it is best to use immutable data types whenever possible. This is because immutable data types are more efficient and less error-prone.\n\n",
      "metadata": {}
    },
    {
      "cell_type": "markdown",
      "source": "9. Write a code to create the given structure using only for loop.\n    *\n   ***\n  *****\n *******\n*********",
      "metadata": {}
    },
    {
      "cell_type": "markdown",
      "source": "A) rows =5\nfor i in range(rows):\n    for j in range (i, rows):\n        print(\" \", end=\"\")\n    for j in range(i):\n        print(\"*\",end=\"\")\n    for j in range(i+1):\n        print(\"*\",end=\"\")\n    print()",
      "metadata": {}
    },
    {
      "cell_type": "code",
      "source": "",
      "metadata": {},
      "execution_count": null,
      "outputs": []
    },
    {
      "cell_type": "markdown",
      "source": "10. Q.10. Write a code to create the given structure using while loop.\n     |||||||||\n      |||||||\n       |||||\n        |||\n         |",
      "metadata": {}
    },
    {
      "cell_type": "markdown",
      "source": "A)\nrows =5\nfor i in range(rows):\n    for j in range (i+1):\n        print(\" \", end=\"\")\n    for j in range(i,rows):\n        print(\"|\",end=\"\")\n    for j in range(i,rows-1):\n        print(\"|\",end=\"\")\n    print()",
      "metadata": {}
    },
    {
      "cell_type": "code",
      "source": "",
      "metadata": {},
      "execution_count": null,
      "outputs": []
    },
    {
      "cell_type": "code",
      "source": "",
      "metadata": {},
      "execution_count": null,
      "outputs": []
    },
    {
      "cell_type": "code",
      "source": "",
      "metadata": {},
      "execution_count": null,
      "outputs": []
    },
    {
      "cell_type": "code",
      "source": "",
      "metadata": {},
      "execution_count": null,
      "outputs": []
    },
    {
      "cell_type": "code",
      "source": "",
      "metadata": {},
      "execution_count": null,
      "outputs": []
    },
    {
      "cell_type": "code",
      "source": "",
      "metadata": {},
      "execution_count": null,
      "outputs": []
    }
  ]
}